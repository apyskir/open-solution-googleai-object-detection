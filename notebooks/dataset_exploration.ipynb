{
 "cells": [
  {
   "cell_type": "code",
   "execution_count": 16,
   "metadata": {},
   "outputs": [],
   "source": [
    "import os\n",
    "\n",
    "import glob\n",
    "import pandas as pd\n",
    "\n",
    "DIRPATH = '/mnt/ml-team/open-images-v4/bounding-boxes'"
   ]
  },
  {
   "cell_type": "code",
   "execution_count": 10,
   "metadata": {},
   "outputs": [
    {
     "data": {
      "text/plain": [
       "['/mnt/ml-team/open-images-v4/bounding-boxes/boxes',\n",
       " '/mnt/ml-team/open-images-v4/bounding-boxes/image-labels',\n",
       " '/mnt/ml-team/open-images-v4/bounding-boxes/imageIds',\n",
       " '/mnt/ml-team/open-images-v4/bounding-boxes/metadata',\n",
       " '/mnt/ml-team/open-images-v4/bounding-boxes/validation',\n",
       " '/mnt/ml-team/open-images-v4/bounding-boxes/train',\n",
       " '/mnt/ml-team/open-images-v4/bounding-boxes/test',\n",
       " '/mnt/ml-team/open-images-v4/bounding-boxes/test_challenge_2018']"
      ]
     },
     "execution_count": 10,
     "metadata": {},
     "output_type": "execute_result"
    }
   ],
   "source": [
    "glob.glob('{}/*'.format(DIRPATH))"
   ]
  },
  {
   "cell_type": "markdown",
   "metadata": {},
   "source": [
    "# boxes"
   ]
  },
  {
   "cell_type": "code",
   "execution_count": 22,
   "metadata": {},
   "outputs": [
    {
     "data": {
      "text/plain": [
       "['/mnt/ml-team/open-images-v4/bounding-boxes/boxes/train-annotations-bbox.csv',\n",
       " '/mnt/ml-team/open-images-v4/bounding-boxes/boxes/validation-annotations-bbox.csv',\n",
       " '/mnt/ml-team/open-images-v4/bounding-boxes/boxes/test-annotations-bbox.csv']"
      ]
     },
     "execution_count": 22,
     "metadata": {},
     "output_type": "execute_result"
    }
   ],
   "source": [
    "glob.glob('{}/boxes/*'.format(DIRPATH))"
   ]
  },
  {
   "cell_type": "code",
   "execution_count": 45,
   "metadata": {},
   "outputs": [
    {
     "data": {
      "text/html": [
       "<div>\n",
       "<style scoped>\n",
       "    .dataframe tbody tr th:only-of-type {\n",
       "        vertical-align: middle;\n",
       "    }\n",
       "\n",
       "    .dataframe tbody tr th {\n",
       "        vertical-align: top;\n",
       "    }\n",
       "\n",
       "    .dataframe thead th {\n",
       "        text-align: right;\n",
       "    }\n",
       "</style>\n",
       "<table border=\"1\" class=\"dataframe\">\n",
       "  <thead>\n",
       "    <tr style=\"text-align: right;\">\n",
       "      <th></th>\n",
       "      <th>ImageID</th>\n",
       "      <th>Source</th>\n",
       "      <th>LabelName</th>\n",
       "      <th>Confidence</th>\n",
       "      <th>XMin</th>\n",
       "      <th>XMax</th>\n",
       "      <th>YMin</th>\n",
       "      <th>YMax</th>\n",
       "      <th>IsOccluded</th>\n",
       "      <th>IsTruncated</th>\n",
       "      <th>IsGroupOf</th>\n",
       "      <th>IsDepiction</th>\n",
       "      <th>IsInside</th>\n",
       "    </tr>\n",
       "  </thead>\n",
       "  <tbody>\n",
       "    <tr>\n",
       "      <th>0</th>\n",
       "      <td>000002b66c9c498e</td>\n",
       "      <td>xclick</td>\n",
       "      <td>/m/01g317</td>\n",
       "      <td>1</td>\n",
       "      <td>0.012500</td>\n",
       "      <td>0.195312</td>\n",
       "      <td>0.148438</td>\n",
       "      <td>0.587500</td>\n",
       "      <td>0</td>\n",
       "      <td>1</td>\n",
       "      <td>0</td>\n",
       "      <td>0</td>\n",
       "      <td>0</td>\n",
       "    </tr>\n",
       "    <tr>\n",
       "      <th>1</th>\n",
       "      <td>000002b66c9c498e</td>\n",
       "      <td>xclick</td>\n",
       "      <td>/m/01g317</td>\n",
       "      <td>1</td>\n",
       "      <td>0.025000</td>\n",
       "      <td>0.276563</td>\n",
       "      <td>0.714063</td>\n",
       "      <td>0.948438</td>\n",
       "      <td>0</td>\n",
       "      <td>1</td>\n",
       "      <td>0</td>\n",
       "      <td>0</td>\n",
       "      <td>0</td>\n",
       "    </tr>\n",
       "    <tr>\n",
       "      <th>2</th>\n",
       "      <td>000002b66c9c498e</td>\n",
       "      <td>xclick</td>\n",
       "      <td>/m/01g317</td>\n",
       "      <td>1</td>\n",
       "      <td>0.151562</td>\n",
       "      <td>0.310937</td>\n",
       "      <td>0.198437</td>\n",
       "      <td>0.590625</td>\n",
       "      <td>1</td>\n",
       "      <td>0</td>\n",
       "      <td>0</td>\n",
       "      <td>0</td>\n",
       "      <td>0</td>\n",
       "    </tr>\n",
       "    <tr>\n",
       "      <th>3</th>\n",
       "      <td>000002b66c9c498e</td>\n",
       "      <td>xclick</td>\n",
       "      <td>/m/01g317</td>\n",
       "      <td>1</td>\n",
       "      <td>0.256250</td>\n",
       "      <td>0.429688</td>\n",
       "      <td>0.651563</td>\n",
       "      <td>0.925000</td>\n",
       "      <td>1</td>\n",
       "      <td>0</td>\n",
       "      <td>0</td>\n",
       "      <td>0</td>\n",
       "      <td>0</td>\n",
       "    </tr>\n",
       "    <tr>\n",
       "      <th>4</th>\n",
       "      <td>000002b66c9c498e</td>\n",
       "      <td>xclick</td>\n",
       "      <td>/m/01g317</td>\n",
       "      <td>1</td>\n",
       "      <td>0.257812</td>\n",
       "      <td>0.346875</td>\n",
       "      <td>0.235938</td>\n",
       "      <td>0.385938</td>\n",
       "      <td>1</td>\n",
       "      <td>0</td>\n",
       "      <td>0</td>\n",
       "      <td>0</td>\n",
       "      <td>0</td>\n",
       "    </tr>\n",
       "  </tbody>\n",
       "</table>\n",
       "</div>"
      ],
      "text/plain": [
       "            ImageID  Source  LabelName  Confidence      XMin      XMax  \\\n",
       "0  000002b66c9c498e  xclick  /m/01g317           1  0.012500  0.195312   \n",
       "1  000002b66c9c498e  xclick  /m/01g317           1  0.025000  0.276563   \n",
       "2  000002b66c9c498e  xclick  /m/01g317           1  0.151562  0.310937   \n",
       "3  000002b66c9c498e  xclick  /m/01g317           1  0.256250  0.429688   \n",
       "4  000002b66c9c498e  xclick  /m/01g317           1  0.257812  0.346875   \n",
       "\n",
       "       YMin      YMax  IsOccluded  IsTruncated  IsGroupOf  IsDepiction  \\\n",
       "0  0.148438  0.587500           0            1          0            0   \n",
       "1  0.714063  0.948438           0            1          0            0   \n",
       "2  0.198437  0.590625           1            0          0            0   \n",
       "3  0.651563  0.925000           1            0          0            0   \n",
       "4  0.235938  0.385938           1            0          0            0   \n",
       "\n",
       "   IsInside  \n",
       "0         0  \n",
       "1         0  \n",
       "2         0  \n",
       "3         0  \n",
       "4         0  "
      ]
     },
     "execution_count": 45,
     "metadata": {},
     "output_type": "execute_result"
    }
   ],
   "source": [
    "train_boxes = pd.read_csv(os.path.join(DIRPATH,'boxes','train-annotations-bbox.csv'))\n",
    "train_boxes.head()"
   ]
  },
  {
   "cell_type": "code",
   "execution_count": 46,
   "metadata": {},
   "outputs": [
    {
     "data": {
      "text/html": [
       "<div>\n",
       "<style scoped>\n",
       "    .dataframe tbody tr th:only-of-type {\n",
       "        vertical-align: middle;\n",
       "    }\n",
       "\n",
       "    .dataframe tbody tr th {\n",
       "        vertical-align: top;\n",
       "    }\n",
       "\n",
       "    .dataframe thead th {\n",
       "        text-align: right;\n",
       "    }\n",
       "</style>\n",
       "<table border=\"1\" class=\"dataframe\">\n",
       "  <thead>\n",
       "    <tr style=\"text-align: right;\">\n",
       "      <th></th>\n",
       "      <th>ImageID</th>\n",
       "      <th>Source</th>\n",
       "      <th>LabelName</th>\n",
       "      <th>Confidence</th>\n",
       "      <th>XMin</th>\n",
       "      <th>XMax</th>\n",
       "      <th>YMin</th>\n",
       "      <th>YMax</th>\n",
       "      <th>IsOccluded</th>\n",
       "      <th>IsTruncated</th>\n",
       "      <th>IsGroupOf</th>\n",
       "      <th>IsDepiction</th>\n",
       "      <th>IsInside</th>\n",
       "    </tr>\n",
       "  </thead>\n",
       "  <tbody>\n",
       "    <tr>\n",
       "      <th>0</th>\n",
       "      <td>0001eeaf4aed83f9</td>\n",
       "      <td>freeform</td>\n",
       "      <td>/m/0cmf2</td>\n",
       "      <td>1</td>\n",
       "      <td>0.022464</td>\n",
       "      <td>0.964178</td>\n",
       "      <td>0.070656</td>\n",
       "      <td>0.800164</td>\n",
       "      <td>0</td>\n",
       "      <td>0</td>\n",
       "      <td>0</td>\n",
       "      <td>0</td>\n",
       "      <td>0</td>\n",
       "    </tr>\n",
       "    <tr>\n",
       "      <th>1</th>\n",
       "      <td>000595fe6fee6369</td>\n",
       "      <td>freeform</td>\n",
       "      <td>/m/02wbm</td>\n",
       "      <td>1</td>\n",
       "      <td>0.000000</td>\n",
       "      <td>1.000000</td>\n",
       "      <td>0.000233</td>\n",
       "      <td>1.000000</td>\n",
       "      <td>0</td>\n",
       "      <td>0</td>\n",
       "      <td>1</td>\n",
       "      <td>0</td>\n",
       "      <td>0</td>\n",
       "    </tr>\n",
       "    <tr>\n",
       "      <th>2</th>\n",
       "      <td>000595fe6fee6369</td>\n",
       "      <td>freeform</td>\n",
       "      <td>/m/02xwb</td>\n",
       "      <td>1</td>\n",
       "      <td>0.141030</td>\n",
       "      <td>0.180277</td>\n",
       "      <td>0.676262</td>\n",
       "      <td>0.732455</td>\n",
       "      <td>0</td>\n",
       "      <td>0</td>\n",
       "      <td>0</td>\n",
       "      <td>0</td>\n",
       "      <td>0</td>\n",
       "    </tr>\n",
       "    <tr>\n",
       "      <th>3</th>\n",
       "      <td>000595fe6fee6369</td>\n",
       "      <td>freeform</td>\n",
       "      <td>/m/02xwb</td>\n",
       "      <td>1</td>\n",
       "      <td>0.213781</td>\n",
       "      <td>0.253028</td>\n",
       "      <td>0.298764</td>\n",
       "      <td>0.354956</td>\n",
       "      <td>1</td>\n",
       "      <td>0</td>\n",
       "      <td>0</td>\n",
       "      <td>0</td>\n",
       "      <td>0</td>\n",
       "    </tr>\n",
       "    <tr>\n",
       "      <th>4</th>\n",
       "      <td>000595fe6fee6369</td>\n",
       "      <td>freeform</td>\n",
       "      <td>/m/02xwb</td>\n",
       "      <td>1</td>\n",
       "      <td>0.232926</td>\n",
       "      <td>0.288447</td>\n",
       "      <td>0.488954</td>\n",
       "      <td>0.545146</td>\n",
       "      <td>1</td>\n",
       "      <td>0</td>\n",
       "      <td>0</td>\n",
       "      <td>0</td>\n",
       "      <td>0</td>\n",
       "    </tr>\n",
       "  </tbody>\n",
       "</table>\n",
       "</div>"
      ],
      "text/plain": [
       "            ImageID    Source LabelName  Confidence      XMin      XMax  \\\n",
       "0  0001eeaf4aed83f9  freeform  /m/0cmf2           1  0.022464  0.964178   \n",
       "1  000595fe6fee6369  freeform  /m/02wbm           1  0.000000  1.000000   \n",
       "2  000595fe6fee6369  freeform  /m/02xwb           1  0.141030  0.180277   \n",
       "3  000595fe6fee6369  freeform  /m/02xwb           1  0.213781  0.253028   \n",
       "4  000595fe6fee6369  freeform  /m/02xwb           1  0.232926  0.288447   \n",
       "\n",
       "       YMin      YMax  IsOccluded  IsTruncated  IsGroupOf  IsDepiction  \\\n",
       "0  0.070656  0.800164           0            0          0            0   \n",
       "1  0.000233  1.000000           0            0          1            0   \n",
       "2  0.676262  0.732455           0            0          0            0   \n",
       "3  0.298764  0.354956           1            0          0            0   \n",
       "4  0.488954  0.545146           1            0          0            0   \n",
       "\n",
       "   IsInside  \n",
       "0         0  \n",
       "1         0  \n",
       "2         0  \n",
       "3         0  \n",
       "4         0  "
      ]
     },
     "execution_count": 46,
     "metadata": {},
     "output_type": "execute_result"
    }
   ],
   "source": [
    "valid_boxes = pd.read_csv(os.path.join(DIRPATH,'boxes','validation-annotations-bbox.csv'))\n",
    "valid_boxes.head()"
   ]
  },
  {
   "cell_type": "markdown",
   "metadata": {},
   "source": [
    "## Source\n",
    "Let's look at the data sources in train and valid"
   ]
  },
  {
   "cell_type": "code",
   "execution_count": 34,
   "metadata": {},
   "outputs": [
    {
     "data": {
      "text/plain": [
       "xclick       13050532\n",
       "activemil     1559697\n",
       "Name: Source, dtype: int64"
      ]
     },
     "execution_count": 34,
     "metadata": {},
     "output_type": "execute_result"
    }
   ],
   "source": [
    "train_boxes['Source'].value_counts()"
   ]
  },
  {
   "cell_type": "code",
   "execution_count": 35,
   "metadata": {},
   "outputs": [
    {
     "data": {
      "text/plain": [
       "freeform    204621\n",
       "Name: Source, dtype: int64"
      ]
     },
     "execution_count": 35,
     "metadata": {},
     "output_type": "execute_result"
    }
   ],
   "source": [
    "valid_boxes['Source'].value_counts()"
   ]
  },
  {
   "cell_type": "markdown",
   "metadata": {},
   "source": [
    "There are different sources used in train and valid, which could affect how the labels were collected\n",
    "\n",
    "## Confidence"
   ]
  },
  {
   "cell_type": "code",
   "execution_count": 38,
   "metadata": {},
   "outputs": [
    {
     "data": {
      "text/plain": [
       "count    14610229.0\n",
       "mean            1.0\n",
       "std             0.0\n",
       "min             1.0\n",
       "25%             1.0\n",
       "50%             1.0\n",
       "75%             1.0\n",
       "max             1.0\n",
       "Name: Confidence, dtype: float64"
      ]
     },
     "execution_count": 38,
     "metadata": {},
     "output_type": "execute_result"
    }
   ],
   "source": [
    "train_boxes['Confidence'].describe()"
   ]
  },
  {
   "cell_type": "code",
   "execution_count": 39,
   "metadata": {},
   "outputs": [
    {
     "data": {
      "text/plain": [
       "count    204621.0\n",
       "mean          1.0\n",
       "std           0.0\n",
       "min           1.0\n",
       "25%           1.0\n",
       "50%           1.0\n",
       "75%           1.0\n",
       "max           1.0\n",
       "Name: Confidence, dtype: float64"
      ]
     },
     "execution_count": 39,
     "metadata": {},
     "output_type": "execute_result"
    }
   ],
   "source": [
    "valid_boxes['Confidence'].describe()"
   ]
  },
  {
   "cell_type": "markdown",
   "metadata": {},
   "source": [
    "It seems that both in train and valid confidence on every bbox of every image is `1`.\n",
    "\n",
    "Why have this flag then?\n",
    "\n",
    "## LabelName"
   ]
  },
  {
   "cell_type": "code",
   "execution_count": 43,
   "metadata": {},
   "outputs": [
    {
     "data": {
      "text/plain": [
       "(599, 559)"
      ]
     },
     "execution_count": 43,
     "metadata": {},
     "output_type": "execute_result"
    }
   ],
   "source": [
    "train_boxes['LabelName'].nunique(), valid_boxes['LabelName'].nunique(), "
   ]
  },
  {
   "cell_type": "code",
   "execution_count": 44,
   "metadata": {},
   "outputs": [
    {
     "data": {
      "text/plain": [
       "/m/09j2d      1438128\n",
       "/m/04yx4      1418594\n",
       "/m/07j7r      1051344\n",
       "/m/0dzct      1037710\n",
       "/m/01g317     1034721\n",
       "/m/03bt1vf     767337\n",
       "/m/09j5n       744474\n",
       "/m/0d4v4       503467\n",
       "/m/0c9ph5      345296\n",
       "/m/083wq       340639\n",
       "/m/05s2s       267913\n",
       "/m/0k4j        248075\n",
       "/m/03q69       234057\n",
       "/m/0dzf4       208982\n",
       "/m/04hgtk      201633\n",
       "/m/05r655      197155\n",
       "/m/0cgh4       178634\n",
       "/m/02p0tk3     175244\n",
       "/m/04rky       156154\n",
       "/m/03jm5       136152\n",
       "/m/01mzpv      132483\n",
       "/m/0h9mv       122615\n",
       "/m/01xyhv      110848\n",
       "/m/0463sg       91024\n",
       "/m/02wbm        88422\n",
       "/m/01bl7v       87555\n",
       "/m/04bcr3       85691\n",
       "/m/079cl        81261\n",
       "/m/01prls       81108\n",
       "/m/019jd        79113\n",
       "               ...   \n",
       "/m/025fsf          59\n",
       "/m/0km7z           56\n",
       "/m/0xfy            56\n",
       "/m/027rl48         54\n",
       "/m/02fh7f          53\n",
       "/m/07mcwg          45\n",
       "/m/02cvgx          43\n",
       "/m/0f8s22          41\n",
       "/m/03qjg           38\n",
       "/m/0j496           36\n",
       "/m/03wym           35\n",
       "/m/03qhv5          35\n",
       "/m/0_dqb           33\n",
       "/m/04z4wx          31\n",
       "/m/02xqq           28\n",
       "/m/0440zs          27\n",
       "/m/03wvsk          27\n",
       "/m/04f5ws          21\n",
       "/m/02ddwp          21\n",
       "/m/0h8nsvg         20\n",
       "/m/08ks85          20\n",
       "/m/07dd4           20\n",
       "/m/0h8jyh6         14\n",
       "/m/0h8ntjv         14\n",
       "/m/04lvq_          11\n",
       "/m/0xzly           10\n",
       "/m/05w9t9          10\n",
       "/m/0ct4f            8\n",
       "/m/02mqfb           7\n",
       "/m/080n7g           4\n",
       "Name: LabelName, Length: 599, dtype: int64"
      ]
     },
     "execution_count": 44,
     "metadata": {},
     "output_type": "execute_result"
    }
   ],
   "source": [
    "train_boxes['LabelName'].value_counts() "
   ]
  },
  {
   "cell_type": "markdown",
   "metadata": {},
   "source": [
    "`559` labels that have from `4` to `1438128` examples in the train set. \n",
    "\n",
    "Sounds like a lot of fun :)\n",
    "# image-labels"
   ]
  },
  {
   "cell_type": "code",
   "execution_count": 42,
   "metadata": {},
   "outputs": [
    {
     "data": {
      "text/plain": [
       "['/mnt/ml-team/open-images-v4/bounding-boxes/image-labels/train-annotations-human-imagelabels-boxable.csv',\n",
       " '/mnt/ml-team/open-images-v4/bounding-boxes/image-labels/validation-annotations-human-imagelabels-boxable.csv',\n",
       " '/mnt/ml-team/open-images-v4/bounding-boxes/image-labels/test-annotations-human-imagelabels-boxable.csv']"
      ]
     },
     "execution_count": 42,
     "metadata": {},
     "output_type": "execute_result"
    }
   ],
   "source": [
    "glob.glob('{}/image-labels/*'.format(DIRPATH))"
   ]
  },
  {
   "cell_type": "code",
   "execution_count": 47,
   "metadata": {},
   "outputs": [
    {
     "data": {
      "text/html": [
       "<div>\n",
       "<style scoped>\n",
       "    .dataframe tbody tr th:only-of-type {\n",
       "        vertical-align: middle;\n",
       "    }\n",
       "\n",
       "    .dataframe tbody tr th {\n",
       "        vertical-align: top;\n",
       "    }\n",
       "\n",
       "    .dataframe thead th {\n",
       "        text-align: right;\n",
       "    }\n",
       "</style>\n",
       "<table border=\"1\" class=\"dataframe\">\n",
       "  <thead>\n",
       "    <tr style=\"text-align: right;\">\n",
       "      <th></th>\n",
       "      <th>ImageID</th>\n",
       "      <th>Source</th>\n",
       "      <th>LabelName</th>\n",
       "      <th>Confidence</th>\n",
       "    </tr>\n",
       "  </thead>\n",
       "  <tbody>\n",
       "    <tr>\n",
       "      <th>0</th>\n",
       "      <td>000002b66c9c498e</td>\n",
       "      <td>verification</td>\n",
       "      <td>/m/014j1m</td>\n",
       "      <td>0</td>\n",
       "    </tr>\n",
       "    <tr>\n",
       "      <th>1</th>\n",
       "      <td>000002b66c9c498e</td>\n",
       "      <td>verification</td>\n",
       "      <td>/m/014sv8</td>\n",
       "      <td>1</td>\n",
       "    </tr>\n",
       "    <tr>\n",
       "      <th>2</th>\n",
       "      <td>000002b66c9c498e</td>\n",
       "      <td>verification</td>\n",
       "      <td>/m/01599</td>\n",
       "      <td>0</td>\n",
       "    </tr>\n",
       "    <tr>\n",
       "      <th>3</th>\n",
       "      <td>000002b66c9c498e</td>\n",
       "      <td>verification</td>\n",
       "      <td>/m/015p6</td>\n",
       "      <td>0</td>\n",
       "    </tr>\n",
       "    <tr>\n",
       "      <th>4</th>\n",
       "      <td>000002b66c9c498e</td>\n",
       "      <td>verification</td>\n",
       "      <td>/m/015x4r</td>\n",
       "      <td>0</td>\n",
       "    </tr>\n",
       "  </tbody>\n",
       "</table>\n",
       "</div>"
      ],
      "text/plain": [
       "            ImageID        Source  LabelName  Confidence\n",
       "0  000002b66c9c498e  verification  /m/014j1m           0\n",
       "1  000002b66c9c498e  verification  /m/014sv8           1\n",
       "2  000002b66c9c498e  verification   /m/01599           0\n",
       "3  000002b66c9c498e  verification   /m/015p6           0\n",
       "4  000002b66c9c498e  verification  /m/015x4r           0"
      ]
     },
     "execution_count": 47,
     "metadata": {},
     "output_type": "execute_result"
    }
   ],
   "source": [
    "train_image_labels = pd.read_csv(os.path.join(DIRPATH,'image-labels','train-annotations-human-imagelabels-boxable.csv'))\n",
    "train_image_labels.head()"
   ]
  },
  {
   "cell_type": "code",
   "execution_count": 48,
   "metadata": {},
   "outputs": [
    {
     "data": {
      "text/html": [
       "<div>\n",
       "<style scoped>\n",
       "    .dataframe tbody tr th:only-of-type {\n",
       "        vertical-align: middle;\n",
       "    }\n",
       "\n",
       "    .dataframe tbody tr th {\n",
       "        vertical-align: top;\n",
       "    }\n",
       "\n",
       "    .dataframe thead th {\n",
       "        text-align: right;\n",
       "    }\n",
       "</style>\n",
       "<table border=\"1\" class=\"dataframe\">\n",
       "  <thead>\n",
       "    <tr style=\"text-align: right;\">\n",
       "      <th></th>\n",
       "      <th>ImageID</th>\n",
       "      <th>Source</th>\n",
       "      <th>LabelName</th>\n",
       "      <th>Confidence</th>\n",
       "    </tr>\n",
       "  </thead>\n",
       "  <tbody>\n",
       "    <tr>\n",
       "      <th>0</th>\n",
       "      <td>0001eeaf4aed83f9</td>\n",
       "      <td>verification</td>\n",
       "      <td>/m/0k5j</td>\n",
       "      <td>1</td>\n",
       "    </tr>\n",
       "    <tr>\n",
       "      <th>1</th>\n",
       "      <td>0001eeaf4aed83f9</td>\n",
       "      <td>verification</td>\n",
       "      <td>/m/07yv9</td>\n",
       "      <td>1</td>\n",
       "    </tr>\n",
       "    <tr>\n",
       "      <th>2</th>\n",
       "      <td>0001eeaf4aed83f9</td>\n",
       "      <td>verification</td>\n",
       "      <td>/m/0cmf2</td>\n",
       "      <td>1</td>\n",
       "    </tr>\n",
       "    <tr>\n",
       "      <th>3</th>\n",
       "      <td>0004886b7d043cfd</td>\n",
       "      <td>verification</td>\n",
       "      <td>/m/0463sg</td>\n",
       "      <td>0</td>\n",
       "    </tr>\n",
       "    <tr>\n",
       "      <th>4</th>\n",
       "      <td>0004886b7d043cfd</td>\n",
       "      <td>verification</td>\n",
       "      <td>/m/04hgtk</td>\n",
       "      <td>0</td>\n",
       "    </tr>\n",
       "  </tbody>\n",
       "</table>\n",
       "</div>"
      ],
      "text/plain": [
       "            ImageID        Source  LabelName  Confidence\n",
       "0  0001eeaf4aed83f9  verification    /m/0k5j           1\n",
       "1  0001eeaf4aed83f9  verification   /m/07yv9           1\n",
       "2  0001eeaf4aed83f9  verification   /m/0cmf2           1\n",
       "3  0004886b7d043cfd  verification  /m/0463sg           0\n",
       "4  0004886b7d043cfd  verification  /m/04hgtk           0"
      ]
     },
     "execution_count": 48,
     "metadata": {},
     "output_type": "execute_result"
    }
   ],
   "source": [
    "valid_image_labels = pd.read_csv(os.path.join(DIRPATH,'image-labels','validation-annotations-human-imagelabels-boxable.csv'))\n",
    "valid_image_labels.head()"
   ]
  },
  {
   "cell_type": "code",
   "execution_count": 49,
   "metadata": {},
   "outputs": [
    {
     "data": {
      "text/plain": [
       "verification                8659710\n",
       "crowdsource-verification     337085\n",
       "Name: Source, dtype: int64"
      ]
     },
     "execution_count": 49,
     "metadata": {},
     "output_type": "execute_result"
    }
   ],
   "source": [
    "train_image_labels['Source'].value_counts()"
   ]
  },
  {
   "cell_type": "code",
   "execution_count": 50,
   "metadata": {},
   "outputs": [
    {
     "data": {
      "text/plain": [
       "verification                209880\n",
       "crowdsource-verification      1900\n",
       "Name: Source, dtype: int64"
      ]
     },
     "execution_count": 50,
     "metadata": {},
     "output_type": "execute_result"
    }
   ],
   "source": [
    "valid_image_labels['Source'].value_counts()"
   ]
  },
  {
   "cell_type": "code",
   "execution_count": 51,
   "metadata": {},
   "outputs": [
    {
     "data": {
      "text/plain": [
       "1    6622219\n",
       "0    2374576\n",
       "Name: Confidence, dtype: int64"
      ]
     },
     "execution_count": 51,
     "metadata": {},
     "output_type": "execute_result"
    }
   ],
   "source": [
    "train_image_labels['Confidence'].value_counts()"
   ]
  },
  {
   "cell_type": "code",
   "execution_count": 52,
   "metadata": {},
   "outputs": [
    {
     "data": {
      "text/plain": [
       "1    141785\n",
       "0     69995\n",
       "Name: Confidence, dtype: int64"
      ]
     },
     "execution_count": 52,
     "metadata": {},
     "output_type": "execute_result"
    }
   ],
   "source": [
    "valid_image_labels['Confidence'].value_counts()"
   ]
  },
  {
   "cell_type": "markdown",
   "metadata": {},
   "source": [
    "Ok, this looks a bit more reasonable."
   ]
  },
  {
   "cell_type": "markdown",
   "metadata": {},
   "source": [
    "# imageIds\n",
    "\n",
    "Just some info on the origin of data, authors, licence and stuff like that"
   ]
  },
  {
   "cell_type": "code",
   "execution_count": 61,
   "metadata": {},
   "outputs": [
    {
     "data": {
      "text/plain": [
       "['/mnt/ml-team/open-images-v4/bounding-boxes/imageIds/train-images-boxable-with-rotation.csv',\n",
       " '/mnt/ml-team/open-images-v4/bounding-boxes/imageIds/validation-images-with-rotation.csv',\n",
       " '/mnt/ml-team/open-images-v4/bounding-boxes/imageIds/test-images-with-rotation.csv']"
      ]
     },
     "execution_count": 61,
     "metadata": {},
     "output_type": "execute_result"
    }
   ],
   "source": [
    "glob.glob('{}/imageIds/*'.format(DIRPATH))"
   ]
  },
  {
   "cell_type": "code",
   "execution_count": 62,
   "metadata": {},
   "outputs": [
    {
     "data": {
      "text/html": [
       "<div>\n",
       "<style scoped>\n",
       "    .dataframe tbody tr th:only-of-type {\n",
       "        vertical-align: middle;\n",
       "    }\n",
       "\n",
       "    .dataframe tbody tr th {\n",
       "        vertical-align: top;\n",
       "    }\n",
       "\n",
       "    .dataframe thead th {\n",
       "        text-align: right;\n",
       "    }\n",
       "</style>\n",
       "<table border=\"1\" class=\"dataframe\">\n",
       "  <thead>\n",
       "    <tr style=\"text-align: right;\">\n",
       "      <th></th>\n",
       "      <th>ImageID</th>\n",
       "      <th>Subset</th>\n",
       "      <th>OriginalURL</th>\n",
       "      <th>OriginalLandingURL</th>\n",
       "      <th>License</th>\n",
       "      <th>AuthorProfileURL</th>\n",
       "      <th>Author</th>\n",
       "      <th>Title</th>\n",
       "      <th>OriginalSize</th>\n",
       "      <th>OriginalMD5</th>\n",
       "      <th>Thumbnail300KURL</th>\n",
       "      <th>Rotation</th>\n",
       "    </tr>\n",
       "  </thead>\n",
       "  <tbody>\n",
       "    <tr>\n",
       "      <th>0</th>\n",
       "      <td>4fa8054781a4c382</td>\n",
       "      <td>train</td>\n",
       "      <td>https://farm3.staticflickr.com/5310/5898076654...</td>\n",
       "      <td>https://www.flickr.com/photos/michael-beat/589...</td>\n",
       "      <td>https://creativecommons.org/licenses/by/2.0/</td>\n",
       "      <td>https://www.flickr.com/people/michael-beat/</td>\n",
       "      <td>Michael Beat</td>\n",
       "      <td>...die FNF-Kerze</td>\n",
       "      <td>4405052</td>\n",
       "      <td>KFukvivpCM5QXl5SqKe41g==</td>\n",
       "      <td>https://c1.staticflickr.com/6/5310/5898076654_...</td>\n",
       "      <td>0.0</td>\n",
       "    </tr>\n",
       "    <tr>\n",
       "      <th>1</th>\n",
       "      <td>b37f763ae67d0888</td>\n",
       "      <td>train</td>\n",
       "      <td>https://c1.staticflickr.com/1/67/197493648_628...</td>\n",
       "      <td>https://www.flickr.com/photos/drstarbuck/19749...</td>\n",
       "      <td>https://creativecommons.org/licenses/by/2.0/</td>\n",
       "      <td>https://www.flickr.com/people/drstarbuck/</td>\n",
       "      <td>Karen</td>\n",
       "      <td>Three boys on a hill</td>\n",
       "      <td>494555</td>\n",
       "      <td>9IzEn38GRNsVpATuv7gzEA==</td>\n",
       "      <td>https://c3.staticflickr.com/1/67/197493648_628...</td>\n",
       "      <td>0.0</td>\n",
       "    </tr>\n",
       "    <tr>\n",
       "      <th>2</th>\n",
       "      <td>7e8584b0f487cb9e</td>\n",
       "      <td>train</td>\n",
       "      <td>https://c7.staticflickr.com/8/7056/7143870979_...</td>\n",
       "      <td>https://www.flickr.com/photos/circasassy/71438...</td>\n",
       "      <td>https://creativecommons.org/licenses/by/2.0/</td>\n",
       "      <td>https://www.flickr.com/people/circasassy/</td>\n",
       "      <td>CircaSassy</td>\n",
       "      <td>A Christmas carol and The cricket on the heart...</td>\n",
       "      <td>2371584</td>\n",
       "      <td>3hQwu0iSzY1VIoXiwp0/Mg==</td>\n",
       "      <td>https://c7.staticflickr.com/8/7056/7143870979_...</td>\n",
       "      <td>0.0</td>\n",
       "    </tr>\n",
       "    <tr>\n",
       "      <th>3</th>\n",
       "      <td>86638230febe21c4</td>\n",
       "      <td>train</td>\n",
       "      <td>https://farm5.staticflickr.com/5128/5301868579...</td>\n",
       "      <td>https://www.flickr.com/photos/ajcreencia/53018...</td>\n",
       "      <td>https://creativecommons.org/licenses/by/2.0/</td>\n",
       "      <td>https://www.flickr.com/people/ajcreencia/</td>\n",
       "      <td>Alex</td>\n",
       "      <td>Abbey and Kenny</td>\n",
       "      <td>949267</td>\n",
       "      <td>onB+rCZnGQg5PRX7xOs18Q==</td>\n",
       "      <td>https://c4.staticflickr.com/6/5128/5301868579_...</td>\n",
       "      <td>NaN</td>\n",
       "    </tr>\n",
       "    <tr>\n",
       "      <th>4</th>\n",
       "      <td>249086e72671397d</td>\n",
       "      <td>train</td>\n",
       "      <td>https://c6.staticflickr.com/4/3930/15342460029...</td>\n",
       "      <td>https://www.flickr.com/photos/codnewsroom/1534...</td>\n",
       "      <td>https://creativecommons.org/licenses/by/2.0/</td>\n",
       "      <td>https://www.flickr.com/people/codnewsroom/</td>\n",
       "      <td>COD Newsroom</td>\n",
       "      <td>Suburban Law Enforcement Academy 20th Annivers...</td>\n",
       "      <td>6541758</td>\n",
       "      <td>MjpaAVbMAWbCusSaxI1D7w==</td>\n",
       "      <td>https://c1.staticflickr.com/4/3930/15342460029...</td>\n",
       "      <td>0.0</td>\n",
       "    </tr>\n",
       "  </tbody>\n",
       "</table>\n",
       "</div>"
      ],
      "text/plain": [
       "            ImageID Subset                                        OriginalURL  \\\n",
       "0  4fa8054781a4c382  train  https://farm3.staticflickr.com/5310/5898076654...   \n",
       "1  b37f763ae67d0888  train  https://c1.staticflickr.com/1/67/197493648_628...   \n",
       "2  7e8584b0f487cb9e  train  https://c7.staticflickr.com/8/7056/7143870979_...   \n",
       "3  86638230febe21c4  train  https://farm5.staticflickr.com/5128/5301868579...   \n",
       "4  249086e72671397d  train  https://c6.staticflickr.com/4/3930/15342460029...   \n",
       "\n",
       "                                  OriginalLandingURL  \\\n",
       "0  https://www.flickr.com/photos/michael-beat/589...   \n",
       "1  https://www.flickr.com/photos/drstarbuck/19749...   \n",
       "2  https://www.flickr.com/photos/circasassy/71438...   \n",
       "3  https://www.flickr.com/photos/ajcreencia/53018...   \n",
       "4  https://www.flickr.com/photos/codnewsroom/1534...   \n",
       "\n",
       "                                        License  \\\n",
       "0  https://creativecommons.org/licenses/by/2.0/   \n",
       "1  https://creativecommons.org/licenses/by/2.0/   \n",
       "2  https://creativecommons.org/licenses/by/2.0/   \n",
       "3  https://creativecommons.org/licenses/by/2.0/   \n",
       "4  https://creativecommons.org/licenses/by/2.0/   \n",
       "\n",
       "                              AuthorProfileURL        Author  \\\n",
       "0  https://www.flickr.com/people/michael-beat/  Michael Beat   \n",
       "1    https://www.flickr.com/people/drstarbuck/         Karen   \n",
       "2    https://www.flickr.com/people/circasassy/    CircaSassy   \n",
       "3    https://www.flickr.com/people/ajcreencia/          Alex   \n",
       "4   https://www.flickr.com/people/codnewsroom/  COD Newsroom   \n",
       "\n",
       "                                               Title  OriginalSize  \\\n",
       "0                                   ...die FNF-Kerze       4405052   \n",
       "1                               Three boys on a hill        494555   \n",
       "2  A Christmas carol and The cricket on the heart...       2371584   \n",
       "3                                    Abbey and Kenny        949267   \n",
       "4  Suburban Law Enforcement Academy 20th Annivers...       6541758   \n",
       "\n",
       "                OriginalMD5  \\\n",
       "0  KFukvivpCM5QXl5SqKe41g==   \n",
       "1  9IzEn38GRNsVpATuv7gzEA==   \n",
       "2  3hQwu0iSzY1VIoXiwp0/Mg==   \n",
       "3  onB+rCZnGQg5PRX7xOs18Q==   \n",
       "4  MjpaAVbMAWbCusSaxI1D7w==   \n",
       "\n",
       "                                    Thumbnail300KURL  Rotation  \n",
       "0  https://c1.staticflickr.com/6/5310/5898076654_...       0.0  \n",
       "1  https://c3.staticflickr.com/1/67/197493648_628...       0.0  \n",
       "2  https://c7.staticflickr.com/8/7056/7143870979_...       0.0  \n",
       "3  https://c4.staticflickr.com/6/5128/5301868579_...       NaN  \n",
       "4  https://c1.staticflickr.com/4/3930/15342460029...       0.0  "
      ]
     },
     "execution_count": 62,
     "metadata": {},
     "output_type": "execute_result"
    }
   ],
   "source": [
    "train_imageIds = pd.read_csv(os.path.join(DIRPATH,'imageIds','train-images-boxable-with-rotation.csv'))\n",
    "train_imageIds.head()"
   ]
  },
  {
   "cell_type": "code",
   "execution_count": 63,
   "metadata": {},
   "outputs": [
    {
     "data": {
      "text/html": [
       "<div>\n",
       "<style scoped>\n",
       "    .dataframe tbody tr th:only-of-type {\n",
       "        vertical-align: middle;\n",
       "    }\n",
       "\n",
       "    .dataframe tbody tr th {\n",
       "        vertical-align: top;\n",
       "    }\n",
       "\n",
       "    .dataframe thead th {\n",
       "        text-align: right;\n",
       "    }\n",
       "</style>\n",
       "<table border=\"1\" class=\"dataframe\">\n",
       "  <thead>\n",
       "    <tr style=\"text-align: right;\">\n",
       "      <th></th>\n",
       "      <th>ImageID</th>\n",
       "      <th>Subset</th>\n",
       "      <th>OriginalURL</th>\n",
       "      <th>OriginalLandingURL</th>\n",
       "      <th>License</th>\n",
       "      <th>AuthorProfileURL</th>\n",
       "      <th>Author</th>\n",
       "      <th>Title</th>\n",
       "      <th>OriginalSize</th>\n",
       "      <th>OriginalMD5</th>\n",
       "      <th>Thumbnail300KURL</th>\n",
       "      <th>Rotation</th>\n",
       "    </tr>\n",
       "  </thead>\n",
       "  <tbody>\n",
       "    <tr>\n",
       "      <th>0</th>\n",
       "      <td>fe600639ac5f36c1</td>\n",
       "      <td>validation</td>\n",
       "      <td>https://farm2.staticflickr.com/5612/1534025949...</td>\n",
       "      <td>https://www.flickr.com/photos/118815643@N04/15...</td>\n",
       "      <td>https://creativecommons.org/licenses/by/2.0/</td>\n",
       "      <td>https://www.flickr.com/people/118815643@N04/</td>\n",
       "      <td>LabHacker CD</td>\n",
       "      <td>_GUT6674</td>\n",
       "      <td>242145</td>\n",
       "      <td>0jBpbNION09+r02xkTIBcA==</td>\n",
       "      <td>https://c8.staticflickr.com/6/5612/15340259497...</td>\n",
       "      <td>NaN</td>\n",
       "    </tr>\n",
       "    <tr>\n",
       "      <th>1</th>\n",
       "      <td>ba82c70cc6cdf449</td>\n",
       "      <td>validation</td>\n",
       "      <td>https://farm4.staticflickr.com/3859/1527670200...</td>\n",
       "      <td>https://www.flickr.com/photos/125612851@N04/15...</td>\n",
       "      <td>https://creativecommons.org/licenses/by/2.0/</td>\n",
       "      <td>https://www.flickr.com/people/125612851@N04/</td>\n",
       "      <td>Stockholms stadsarkiv</td>\n",
       "      <td>SE_SSA_0870_Ofört_029</td>\n",
       "      <td>1658910</td>\n",
       "      <td>qMzF2UrrpPdjO+Nhhl6pvQ==</td>\n",
       "      <td>https://c7.staticflickr.com/4/3859/15276702002...</td>\n",
       "      <td>0.0</td>\n",
       "    </tr>\n",
       "    <tr>\n",
       "      <th>2</th>\n",
       "      <td>e3ffa4c868b11b15</td>\n",
       "      <td>validation</td>\n",
       "      <td>https://farm6.staticflickr.com/5336/1717037798...</td>\n",
       "      <td>https://www.flickr.com/photos/101125222@N02/17...</td>\n",
       "      <td>https://creativecommons.org/licenses/by/2.0/</td>\n",
       "      <td>https://www.flickr.com/people/101125222@N02/</td>\n",
       "      <td>Ismaïl Taha</td>\n",
       "      <td>ct26</td>\n",
       "      <td>1085575</td>\n",
       "      <td>MXOLnofbdq410OH34woSeg==</td>\n",
       "      <td>https://c3.staticflickr.com/6/5336/17170377986...</td>\n",
       "      <td>0.0</td>\n",
       "    </tr>\n",
       "    <tr>\n",
       "      <th>3</th>\n",
       "      <td>7d00af2927a57eeb</td>\n",
       "      <td>validation</td>\n",
       "      <td>https://c4.staticflickr.com/7/6181/6085189538_...</td>\n",
       "      <td>https://www.flickr.com/photos/66833578@N02/608...</td>\n",
       "      <td>https://creativecommons.org/licenses/by/2.0/</td>\n",
       "      <td>https://www.flickr.com/people/66833578@N02/</td>\n",
       "      <td>Crycks</td>\n",
       "      <td>Hummingbird</td>\n",
       "      <td>126933</td>\n",
       "      <td>m0dy5a3Pjhbzx15MbScpxg==</td>\n",
       "      <td>https://c5.staticflickr.com/7/6181/6085189538_...</td>\n",
       "      <td>0.0</td>\n",
       "    </tr>\n",
       "    <tr>\n",
       "      <th>4</th>\n",
       "      <td>914dd6fb5eb17e85</td>\n",
       "      <td>validation</td>\n",
       "      <td>https://farm6.staticflickr.com/3324/4621899397...</td>\n",
       "      <td>https://www.flickr.com/photos/damo1977/4621899397</td>\n",
       "      <td>https://creativecommons.org/licenses/by/2.0/</td>\n",
       "      <td>https://www.flickr.com/people/damo1977/</td>\n",
       "      <td>damo1977</td>\n",
       "      <td>Christmas 1994 Hoticulture, Nuts &amp; Dried Fruit...</td>\n",
       "      <td>855508</td>\n",
       "      <td>xeHPBJGWTrDVbOufALMFGw==</td>\n",
       "      <td>https://c6.staticflickr.com/4/3324/4621899397_...</td>\n",
       "      <td>NaN</td>\n",
       "    </tr>\n",
       "  </tbody>\n",
       "</table>\n",
       "</div>"
      ],
      "text/plain": [
       "            ImageID      Subset  \\\n",
       "0  fe600639ac5f36c1  validation   \n",
       "1  ba82c70cc6cdf449  validation   \n",
       "2  e3ffa4c868b11b15  validation   \n",
       "3  7d00af2927a57eeb  validation   \n",
       "4  914dd6fb5eb17e85  validation   \n",
       "\n",
       "                                         OriginalURL  \\\n",
       "0  https://farm2.staticflickr.com/5612/1534025949...   \n",
       "1  https://farm4.staticflickr.com/3859/1527670200...   \n",
       "2  https://farm6.staticflickr.com/5336/1717037798...   \n",
       "3  https://c4.staticflickr.com/7/6181/6085189538_...   \n",
       "4  https://farm6.staticflickr.com/3324/4621899397...   \n",
       "\n",
       "                                  OriginalLandingURL  \\\n",
       "0  https://www.flickr.com/photos/118815643@N04/15...   \n",
       "1  https://www.flickr.com/photos/125612851@N04/15...   \n",
       "2  https://www.flickr.com/photos/101125222@N02/17...   \n",
       "3  https://www.flickr.com/photos/66833578@N02/608...   \n",
       "4  https://www.flickr.com/photos/damo1977/4621899397   \n",
       "\n",
       "                                        License  \\\n",
       "0  https://creativecommons.org/licenses/by/2.0/   \n",
       "1  https://creativecommons.org/licenses/by/2.0/   \n",
       "2  https://creativecommons.org/licenses/by/2.0/   \n",
       "3  https://creativecommons.org/licenses/by/2.0/   \n",
       "4  https://creativecommons.org/licenses/by/2.0/   \n",
       "\n",
       "                               AuthorProfileURL                 Author  \\\n",
       "0  https://www.flickr.com/people/118815643@N04/           LabHacker CD   \n",
       "1  https://www.flickr.com/people/125612851@N04/  Stockholms stadsarkiv   \n",
       "2  https://www.flickr.com/people/101125222@N02/            Ismaïl Taha   \n",
       "3   https://www.flickr.com/people/66833578@N02/                 Crycks   \n",
       "4       https://www.flickr.com/people/damo1977/               damo1977   \n",
       "\n",
       "                                               Title  OriginalSize  \\\n",
       "0                                           _GUT6674        242145   \n",
       "1                              SE_SSA_0870_Ofört_029       1658910   \n",
       "2                                               ct26       1085575   \n",
       "3                                        Hummingbird        126933   \n",
       "4  Christmas 1994 Hoticulture, Nuts & Dried Fruit...        855508   \n",
       "\n",
       "                OriginalMD5  \\\n",
       "0  0jBpbNION09+r02xkTIBcA==   \n",
       "1  qMzF2UrrpPdjO+Nhhl6pvQ==   \n",
       "2  MXOLnofbdq410OH34woSeg==   \n",
       "3  m0dy5a3Pjhbzx15MbScpxg==   \n",
       "4  xeHPBJGWTrDVbOufALMFGw==   \n",
       "\n",
       "                                    Thumbnail300KURL  Rotation  \n",
       "0  https://c8.staticflickr.com/6/5612/15340259497...       NaN  \n",
       "1  https://c7.staticflickr.com/4/3859/15276702002...       0.0  \n",
       "2  https://c3.staticflickr.com/6/5336/17170377986...       0.0  \n",
       "3  https://c5.staticflickr.com/7/6181/6085189538_...       0.0  \n",
       "4  https://c6.staticflickr.com/4/3324/4621899397_...       NaN  "
      ]
     },
     "execution_count": 63,
     "metadata": {},
     "output_type": "execute_result"
    }
   ],
   "source": [
    "valid_imageIds = pd.read_csv(os.path.join(DIRPATH,'imageIds','validation-images-with-rotation.csv'))\n",
    "valid_imageIds.head()"
   ]
  },
  {
   "cell_type": "markdown",
   "metadata": {},
   "source": [
    "# metadata\n",
    "\n",
    "This is just label-code to label-name mapping"
   ]
  },
  {
   "cell_type": "code",
   "execution_count": 64,
   "metadata": {},
   "outputs": [
    {
     "data": {
      "text/plain": [
       "['/mnt/ml-team/open-images-v4/bounding-boxes/metadata/class-descriptions-boxable.csv']"
      ]
     },
     "execution_count": 64,
     "metadata": {},
     "output_type": "execute_result"
    }
   ],
   "source": [
    "glob.glob('{}/metadata/*'.format(DIRPATH))"
   ]
  },
  {
   "cell_type": "code",
   "execution_count": 66,
   "metadata": {},
   "outputs": [
    {
     "data": {
      "text/html": [
       "<div>\n",
       "<style scoped>\n",
       "    .dataframe tbody tr th:only-of-type {\n",
       "        vertical-align: middle;\n",
       "    }\n",
       "\n",
       "    .dataframe tbody tr th {\n",
       "        vertical-align: top;\n",
       "    }\n",
       "\n",
       "    .dataframe thead th {\n",
       "        text-align: right;\n",
       "    }\n",
       "</style>\n",
       "<table border=\"1\" class=\"dataframe\">\n",
       "  <thead>\n",
       "    <tr style=\"text-align: right;\">\n",
       "      <th></th>\n",
       "      <th>/m/011k07</th>\n",
       "      <th>Tortoise</th>\n",
       "    </tr>\n",
       "  </thead>\n",
       "  <tbody>\n",
       "    <tr>\n",
       "      <th>0</th>\n",
       "      <td>/m/011q46kg</td>\n",
       "      <td>Container</td>\n",
       "    </tr>\n",
       "    <tr>\n",
       "      <th>1</th>\n",
       "      <td>/m/012074</td>\n",
       "      <td>Magpie</td>\n",
       "    </tr>\n",
       "    <tr>\n",
       "      <th>2</th>\n",
       "      <td>/m/0120dh</td>\n",
       "      <td>Sea turtle</td>\n",
       "    </tr>\n",
       "    <tr>\n",
       "      <th>3</th>\n",
       "      <td>/m/01226z</td>\n",
       "      <td>Football</td>\n",
       "    </tr>\n",
       "    <tr>\n",
       "      <th>4</th>\n",
       "      <td>/m/012n7d</td>\n",
       "      <td>Ambulance</td>\n",
       "    </tr>\n",
       "  </tbody>\n",
       "</table>\n",
       "</div>"
      ],
      "text/plain": [
       "     /m/011k07    Tortoise\n",
       "0  /m/011q46kg   Container\n",
       "1    /m/012074      Magpie\n",
       "2    /m/0120dh  Sea turtle\n",
       "3    /m/01226z    Football\n",
       "4    /m/012n7d   Ambulance"
      ]
     },
     "execution_count": 66,
     "metadata": {},
     "output_type": "execute_result"
    }
   ],
   "source": [
    "metadata = pd.read_csv(os.path.join(DIRPATH,'metadata','class-descriptions-boxable.csv'))\n",
    "metadata.head()"
   ]
  },
  {
   "cell_type": "markdown",
   "metadata": {},
   "source": [
    "# train, validation, test, test_challenge\n",
    "\n",
    "Those are just folders with images"
   ]
  },
  {
   "cell_type": "code",
   "execution_count": 69,
   "metadata": {},
   "outputs": [
    {
     "data": {
      "text/plain": [
       "['/mnt/ml-team/open-images-v4/bounding-boxes/test_challenge_2018/0146dac8bdf414b1.jpg',\n",
       " '/mnt/ml-team/open-images-v4/bounding-boxes/test_challenge_2018/033d32130a350cf8.jpg',\n",
       " '/mnt/ml-team/open-images-v4/bounding-boxes/test_challenge_2018/0487e566f0f96052.jpg',\n",
       " '/mnt/ml-team/open-images-v4/bounding-boxes/test_challenge_2018/048a9324d4ec2101.jpg',\n",
       " '/mnt/ml-team/open-images-v4/bounding-boxes/test_challenge_2018/06880fcc7b44c18b.jpg',\n",
       " '/mnt/ml-team/open-images-v4/bounding-boxes/test_challenge_2018/0a023dad20897ae9.jpg',\n",
       " '/mnt/ml-team/open-images-v4/bounding-boxes/test_challenge_2018/0cf965850dc569d7.jpg',\n",
       " '/mnt/ml-team/open-images-v4/bounding-boxes/test_challenge_2018/0e39a30fea285028.jpg',\n",
       " '/mnt/ml-team/open-images-v4/bounding-boxes/test_challenge_2018/0f1a34412957c8dd.jpg',\n",
       " '/mnt/ml-team/open-images-v4/bounding-boxes/test_challenge_2018/110a23555ede8535.jpg']"
      ]
     },
     "execution_count": 69,
     "metadata": {},
     "output_type": "execute_result"
    }
   ],
   "source": [
    "glob.glob('{}/test_challenge_2018/*'.format(DIRPATH))[:10]"
   ]
  },
  {
   "cell_type": "code",
   "execution_count": null,
   "metadata": {},
   "outputs": [],
   "source": []
  }
 ],
 "metadata": {
  "kernelspec": {
   "display_name": "dl_py3",
   "language": "python",
   "name": "dl_py3"
  },
  "language_info": {
   "codemirror_mode": {
    "name": "ipython",
    "version": 3
   },
   "file_extension": ".py",
   "mimetype": "text/x-python",
   "name": "python",
   "nbconvert_exporter": "python",
   "pygments_lexer": "ipython3",
   "version": "3.5.2"
  }
 },
 "nbformat": 4,
 "nbformat_minor": 2
}
